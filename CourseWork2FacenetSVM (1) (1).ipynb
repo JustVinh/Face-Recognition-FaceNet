{
  "nbformat": 4,
  "nbformat_minor": 0,
  "metadata": {
    "colab": {
      "name": "CourseWork2FacenetSVM.ipynb",
      "provenance": [],
      "collapsed_sections": []
    },
    "kernelspec": {
      "name": "python3",
      "display_name": "Python 3"
    },
    "language_info": {
      "name": "python"
    }
  },
  "cells": [
    {
      "cell_type": "code",
      "metadata": {
        "colab": {
          "base_uri": "https://localhost:8080/"
        },
        "id": "po-RB8OhRg3u",
        "outputId": "f6b9bfc4-568c-473c-a7a8-49c7bdb2a1ba"
      },
      "source": [
        "!pip install mtcnn\n",
        "\n",
        "import os\n",
        "from keras.models import Model, load_model, Sequential\n",
        "from keras.layers import Dense, BatchNormalization\n",
        "import cv2\n",
        "from mtcnn import MTCNN\n",
        "import matplotlib.pyplot as plt\n",
        "import re\n",
        "import numpy as np\n",
        "from sklearn.model_selection import train_test_split\n",
        "from sklearn import preprocessing\n",
        "from skimage.transform import resize\n",
        "from tensorflow.keras.callbacks import ModelCheckpoint, EarlyStopping\n",
        "from sklearn.svm import SVC\n",
        "from skimage.transform import resize\n",
        "import pickle"
      ],
      "execution_count": 6,
      "outputs": [
        {
          "output_type": "stream",
          "text": [
            "Collecting mtcnn\n",
            "  Downloading mtcnn-0.1.1-py3-none-any.whl (2.3 MB)\n",
            "\u001b[K     |████████████████████████████████| 2.3 MB 8.3 MB/s \n",
            "\u001b[?25hRequirement already satisfied: opencv-python>=4.1.0 in /usr/local/lib/python3.7/dist-packages (from mtcnn) (4.1.2.30)\n",
            "Requirement already satisfied: keras>=2.0.0 in /usr/local/lib/python3.7/dist-packages (from mtcnn) (2.4.3)\n",
            "Requirement already satisfied: scipy>=0.14 in /usr/local/lib/python3.7/dist-packages (from keras>=2.0.0->mtcnn) (1.4.1)\n",
            "Requirement already satisfied: pyyaml in /usr/local/lib/python3.7/dist-packages (from keras>=2.0.0->mtcnn) (3.13)\n",
            "Requirement already satisfied: numpy>=1.9.1 in /usr/local/lib/python3.7/dist-packages (from keras>=2.0.0->mtcnn) (1.19.5)\n",
            "Requirement already satisfied: h5py in /usr/local/lib/python3.7/dist-packages (from keras>=2.0.0->mtcnn) (3.1.0)\n",
            "Requirement already satisfied: cached-property in /usr/local/lib/python3.7/dist-packages (from h5py->keras>=2.0.0->mtcnn) (1.5.2)\n",
            "Installing collected packages: mtcnn\n",
            "Successfully installed mtcnn-0.1.1\n"
          ],
          "name": "stdout"
        }
      ]
    },
    {
      "cell_type": "code",
      "metadata": {
        "colab": {
          "base_uri": "https://localhost:8080/"
        },
        "id": "zIcsAHn8XNVi",
        "outputId": "e51a2e28-ad93-4ceb-c0f0-d642a17efb39"
      },
      "source": [
        "#Folder that contains face_extracted images\n",
        "face_detect_folder = '/content/drive/MyDrive/AI4E_Data/FaceDetectionData'\n",
        "\n",
        "X_data = []\n",
        "Y_data = []\n",
        "\n",
        "# stop = 0\n",
        "for filename in os.listdir(face_detect_folder):\n",
        "    # if(stop == 10):\n",
        "    #   break\n",
        "    if filename.endswith('jpg'):\n",
        "      image = plt.imread(os.path.join(face_detect_folder,filename))\n",
        "      X_data.append(image)\n",
        "      #extract name without .jpg\n",
        "      name_wo_mp4 = filename[:len(filename) - 4]\n",
        "\n",
        "      #extract person name\n",
        "      pattern = r'[0-9]'\n",
        "      name = re.sub(pattern, '', name_wo_mp4)\n",
        "      #xoa space\n",
        "      name.replace(\" \", \"\")\n",
        "      Y_data.append(name)\n",
        "\n",
        "len(X_data)"
      ],
      "execution_count": null,
      "outputs": [
        {
          "output_type": "execute_result",
          "data": {
            "text/plain": [
              "5748"
            ]
          },
          "metadata": {
            "tags": []
          },
          "execution_count": 2
        }
      ]
    },
    {
      "cell_type": "code",
      "metadata": {
        "colab": {
          "base_uri": "https://localhost:8080/"
        },
        "id": "pvT53pJzY11H",
        "outputId": "dac823f6-54be-4f8d-863c-aa465b7add5b"
      },
      "source": [
        "#chia train/val/test\n",
        "X_np_data = np.array(X_data)\n",
        "Y_np_data = np.array(Y_data)\n",
        "\n",
        "X_train, X_val, y_train, y_val = train_test_split(X_np_data, Y_np_data, test_size=0.2, stratify =Y_np_data)\n",
        "X_val, X_test, y_val, y_test = train_test_split(X_val, y_val, test_size=0.5, stratify =y_val)\n",
        "\n",
        "print(len(X_train))\n",
        "print(len(X_val))\n",
        "print(len(X_test))"
      ],
      "execution_count": null,
      "outputs": [
        {
          "output_type": "stream",
          "text": [
            "4598\n",
            "575\n",
            "575\n"
          ],
          "name": "stdout"
        },
        {
          "output_type": "stream",
          "text": [
            "/usr/local/lib/python3.7/dist-packages/ipykernel_launcher.py:2: VisibleDeprecationWarning: Creating an ndarray from ragged nested sequences (which is a list-or-tuple of lists-or-tuples-or ndarrays with different lengths or shapes) is deprecated. If you meant to do this, you must specify 'dtype=object' when creating the ndarray\n",
            "  \n"
          ],
          "name": "stderr"
        }
      ]
    },
    {
      "cell_type": "code",
      "metadata": {
        "id": "UgUEGOwLgjVq"
      },
      "source": [
        "#resize image to fit input of pretrain model\n",
        "def resize_image(X):\n",
        "  res = []\n",
        "  for i in range(len(X)):\n",
        "    res.append(cv2.resize(X[i],(160,160),interpolation = cv2.INTER_AREA))\n",
        "  res = np.array(res)\n",
        "  return res"
      ],
      "execution_count": null,
      "outputs": []
    },
    {
      "cell_type": "code",
      "metadata": {
        "id": "FtiP0lMXg-HX"
      },
      "source": [
        "X_train_resize = resize_image(X_train)\n",
        "X_val_resize = resize_image(X_val)\n",
        "X_test_resize = resize_image(X_test)"
      ],
      "execution_count": null,
      "outputs": []
    },
    {
      "cell_type": "code",
      "metadata": {
        "id": "-CHQRM-licCK"
      },
      "source": [
        ""
      ],
      "execution_count": null,
      "outputs": []
    },
    {
      "cell_type": "code",
      "metadata": {
        "id": "K8YZzeGhg_df"
      },
      "source": [
        "#Normalize to range (0,1)\n",
        "X_train_norm = X_train_resize/255.\n",
        "X_val_norm = X_val_resize/255.\n",
        "X_test_norm = X_test_resize/255."
      ],
      "execution_count": null,
      "outputs": []
    },
    {
      "cell_type": "code",
      "metadata": {
        "colab": {
          "base_uri": "https://localhost:8080/"
        },
        "id": "7X5l1dZIidJY",
        "outputId": "ef5ca3d8-aeb2-40b1-a3a4-aca030ad489e"
      },
      "source": [
        "X_train_norm.shape"
      ],
      "execution_count": null,
      "outputs": [
        {
          "output_type": "execute_result",
          "data": {
            "text/plain": [
              "(4598, 160, 160, 3)"
            ]
          },
          "metadata": {
            "tags": []
          },
          "execution_count": 7
        }
      ]
    },
    {
      "cell_type": "code",
      "metadata": {
        "id": "nVK97za3hBAo"
      },
      "source": [
        "#Encode y\n",
        "le = preprocessing.LabelEncoder()\n",
        "y_train_le = le.fit_transform(y_train)\n",
        "y_val_le = le.fit_transform(y_val)\n",
        "y_test_le = le.fit_transform(y_test)"
      ],
      "execution_count": null,
      "outputs": []
    },
    {
      "cell_type": "code",
      "metadata": {
        "colab": {
          "base_uri": "https://localhost:8080/"
        },
        "id": "bxE4j0Zudngh",
        "outputId": "fe7c2111-5e44-402c-943d-5ff36eb859f7"
      },
      "source": [
        "name_map ={}\n",
        "for i in range(14):\n",
        "  for j in range(len(y_test_le)):\n",
        "    if y_test_le[j] == i:\n",
        "      print(y_test[j])\n",
        "      print(y_test_le[j])\n",
        "      name_map[y_test_le[j]] = y_test[j]\n",
        "      break\n",
        "print(name_map)"
      ],
      "execution_count": null,
      "outputs": [
        {
          "output_type": "stream",
          "text": [
            "Hiếu\n",
            "0\n",
            "Hùng\n",
            "1\n",
            "HĐức\n",
            "2\n",
            "Kiên\n",
            "3\n",
            "Linh\n",
            "4\n",
            "Quân\n",
            "5\n",
            "Tân\n",
            "6\n",
            "Thắng\n",
            "7\n",
            "Trường\n",
            "8\n",
            "Tuấn\n",
            "9\n",
            "Vân\n",
            "10\n",
            "Việt Đức\n",
            "11\n",
            "Xuân Anh\n",
            "12\n",
            "Đức\n",
            "13\n",
            "{0: 'Hiếu', 1: 'Hùng', 2: 'HĐức', 3: 'Kiên', 4: 'Linh', 5: 'Quân', 6: 'Tân', 7: 'Thắng', 8: 'Trường', 9: 'Tuấn', 10: 'Vân', 11: 'Việt Đức', 12: 'Xuân Anh', 13: 'Đức'}\n"
          ],
          "name": "stdout"
        }
      ]
    },
    {
      "cell_type": "code",
      "metadata": {
        "colab": {
          "base_uri": "https://localhost:8080/"
        },
        "id": "ROIfXyVsh0lo",
        "outputId": "7d3e4fb4-896e-4552-e407-bbf1b6289b19"
      },
      "source": [
        "#Load pretrained model and weight\n",
        "#Using Facenet\n",
        "model_path = '/content/drive/MyDrive/keras-facenet/model/facenet_keras.h5'\n",
        "weight_path = '/content/drive/MyDrive/keras-facenet/weights/facenet_keras_weights.h5' \n",
        "facenet = load_model(model_path)\n",
        "facenet.load_weights(weight_path)"
      ],
      "execution_count": null,
      "outputs": [
        {
          "output_type": "stream",
          "text": [
            "WARNING:tensorflow:No training configuration found in the save file, so the model was *not* compiled. Compile it manually.\n"
          ],
          "name": "stdout"
        }
      ]
    },
    {
      "cell_type": "code",
      "metadata": {
        "id": "hbLowXk9jCr4"
      },
      "source": [
        "def l2_normalize(x, axis=-1, epsilon=1e-10):\n",
        "    output = x / np.sqrt(np.maximum(np.sum(np.square(x), axis=axis, keepdims=True), epsilon))\n",
        "    return output"
      ],
      "execution_count": null,
      "outputs": []
    },
    {
      "cell_type": "code",
      "metadata": {
        "id": "lRcCZVw-h54X"
      },
      "source": [
        "def calc_embs(filepaths, margin=10, batch_size=1):\n",
        "    pd = []\n",
        "    for start in range(0, len(aligned_images), batch_size):\n",
        "        pd.append(facenet.predict_on_batch(aligned_images[start:start+batch_size]))\n",
        "    embs = l2_normalize(np.concatenate(pd))\n",
        "\n",
        "    return embs"
      ],
      "execution_count": null,
      "outputs": []
    },
    {
      "cell_type": "code",
      "metadata": {
        "colab": {
          "base_uri": "https://localhost:8080/"
        },
        "id": "Wq59dLjZjHKX",
        "outputId": "9c1234a5-3564-4654-ab4a-04a46daedccb"
      },
      "source": [
        "embs = facenet.predict(X_train_norm)"
      ],
      "execution_count": null,
      "outputs": [
        {
          "output_type": "stream",
          "text": [
            "WARNING:tensorflow:AutoGraph could not transform <function <lambda> at 0x7f4096c01b90> and will run it as-is.\n",
            "Cause: could not parse the source code of <function <lambda> at 0x7f4096c01b90>: no matching AST found\n",
            "To silence this warning, decorate the function with @tf.autograph.experimental.do_not_convert\n",
            "WARNING: AutoGraph could not transform <function <lambda> at 0x7f4096c01b90> and will run it as-is.\n",
            "Cause: could not parse the source code of <function <lambda> at 0x7f4096c01b90>: no matching AST found\n",
            "To silence this warning, decorate the function with @tf.autograph.experimental.do_not_convert\n",
            "WARNING:tensorflow:AutoGraph could not transform <function <lambda> at 0x7f4096c01dd0> and will run it as-is.\n",
            "Cause: could not parse the source code of <function <lambda> at 0x7f4096c01dd0>: no matching AST found\n",
            "To silence this warning, decorate the function with @tf.autograph.experimental.do_not_convert\n",
            "WARNING: AutoGraph could not transform <function <lambda> at 0x7f4096c01dd0> and will run it as-is.\n",
            "Cause: could not parse the source code of <function <lambda> at 0x7f4096c01dd0>: no matching AST found\n",
            "To silence this warning, decorate the function with @tf.autograph.experimental.do_not_convert\n",
            "WARNING:tensorflow:AutoGraph could not transform <function <lambda> at 0x7f4096c01ef0> and will run it as-is.\n",
            "Cause: could not parse the source code of <function <lambda> at 0x7f4096c01ef0>: no matching AST found\n",
            "To silence this warning, decorate the function with @tf.autograph.experimental.do_not_convert\n",
            "WARNING: AutoGraph could not transform <function <lambda> at 0x7f4096c01ef0> and will run it as-is.\n",
            "Cause: could not parse the source code of <function <lambda> at 0x7f4096c01ef0>: no matching AST found\n",
            "To silence this warning, decorate the function with @tf.autograph.experimental.do_not_convert\n",
            "WARNING:tensorflow:AutoGraph could not transform <function <lambda> at 0x7f4096b464d0> and will run it as-is.\n",
            "Cause: could not parse the source code of <function <lambda> at 0x7f4096b464d0>: no matching AST found\n",
            "To silence this warning, decorate the function with @tf.autograph.experimental.do_not_convert\n",
            "WARNING: AutoGraph could not transform <function <lambda> at 0x7f4096b464d0> and will run it as-is.\n",
            "Cause: could not parse the source code of <function <lambda> at 0x7f4096b464d0>: no matching AST found\n",
            "To silence this warning, decorate the function with @tf.autograph.experimental.do_not_convert\n",
            "WARNING:tensorflow:AutoGraph could not transform <function <lambda> at 0x7f4096b465f0> and will run it as-is.\n",
            "Cause: could not parse the source code of <function <lambda> at 0x7f4096b465f0>: no matching AST found\n",
            "To silence this warning, decorate the function with @tf.autograph.experimental.do_not_convert\n",
            "WARNING: AutoGraph could not transform <function <lambda> at 0x7f4096b465f0> and will run it as-is.\n",
            "Cause: could not parse the source code of <function <lambda> at 0x7f4096b465f0>: no matching AST found\n",
            "To silence this warning, decorate the function with @tf.autograph.experimental.do_not_convert\n",
            "WARNING:tensorflow:AutoGraph could not transform <function <lambda> at 0x7f4096b46710> and will run it as-is.\n",
            "Cause: could not parse the source code of <function <lambda> at 0x7f4096b46710>: no matching AST found\n",
            "To silence this warning, decorate the function with @tf.autograph.experimental.do_not_convert\n",
            "WARNING: AutoGraph could not transform <function <lambda> at 0x7f4096b46710> and will run it as-is.\n",
            "Cause: could not parse the source code of <function <lambda> at 0x7f4096b46710>: no matching AST found\n",
            "To silence this warning, decorate the function with @tf.autograph.experimental.do_not_convert\n",
            "WARNING:tensorflow:AutoGraph could not transform <function <lambda> at 0x7f4096b46830> and will run it as-is.\n",
            "Cause: could not parse the source code of <function <lambda> at 0x7f4096b46830>: no matching AST found\n",
            "To silence this warning, decorate the function with @tf.autograph.experimental.do_not_convert\n",
            "WARNING: AutoGraph could not transform <function <lambda> at 0x7f4096b46830> and will run it as-is.\n",
            "Cause: could not parse the source code of <function <lambda> at 0x7f4096b46830>: no matching AST found\n",
            "To silence this warning, decorate the function with @tf.autograph.experimental.do_not_convert\n",
            "WARNING:tensorflow:AutoGraph could not transform <function <lambda> at 0x7f4096b46950> and will run it as-is.\n",
            "Cause: could not parse the source code of <function <lambda> at 0x7f4096b46950>: no matching AST found\n",
            "To silence this warning, decorate the function with @tf.autograph.experimental.do_not_convert\n",
            "WARNING: AutoGraph could not transform <function <lambda> at 0x7f4096b46950> and will run it as-is.\n",
            "Cause: could not parse the source code of <function <lambda> at 0x7f4096b46950>: no matching AST found\n",
            "To silence this warning, decorate the function with @tf.autograph.experimental.do_not_convert\n",
            "WARNING:tensorflow:AutoGraph could not transform <function <lambda> at 0x7f4096b46a70> and will run it as-is.\n",
            "Cause: could not parse the source code of <function <lambda> at 0x7f4096b46a70>: no matching AST found\n",
            "To silence this warning, decorate the function with @tf.autograph.experimental.do_not_convert\n",
            "WARNING: AutoGraph could not transform <function <lambda> at 0x7f4096b46a70> and will run it as-is.\n",
            "Cause: could not parse the source code of <function <lambda> at 0x7f4096b46a70>: no matching AST found\n",
            "To silence this warning, decorate the function with @tf.autograph.experimental.do_not_convert\n",
            "WARNING:tensorflow:AutoGraph could not transform <function <lambda> at 0x7f4096b46b90> and will run it as-is.\n",
            "Cause: could not parse the source code of <function <lambda> at 0x7f4096b46b90>: no matching AST found\n",
            "To silence this warning, decorate the function with @tf.autograph.experimental.do_not_convert\n",
            "WARNING: AutoGraph could not transform <function <lambda> at 0x7f4096b46b90> and will run it as-is.\n",
            "Cause: could not parse the source code of <function <lambda> at 0x7f4096b46b90>: no matching AST found\n",
            "To silence this warning, decorate the function with @tf.autograph.experimental.do_not_convert\n",
            "WARNING:tensorflow:AutoGraph could not transform <function <lambda> at 0x7f4096b46cb0> and will run it as-is.\n",
            "Cause: could not parse the source code of <function <lambda> at 0x7f4096b46cb0>: no matching AST found\n",
            "To silence this warning, decorate the function with @tf.autograph.experimental.do_not_convert\n",
            "WARNING: AutoGraph could not transform <function <lambda> at 0x7f4096b46cb0> and will run it as-is.\n",
            "Cause: could not parse the source code of <function <lambda> at 0x7f4096b46cb0>: no matching AST found\n",
            "To silence this warning, decorate the function with @tf.autograph.experimental.do_not_convert\n",
            "WARNING:tensorflow:AutoGraph could not transform <function <lambda> at 0x7f4096b46dd0> and will run it as-is.\n",
            "Cause: could not parse the source code of <function <lambda> at 0x7f4096b46dd0>: no matching AST found\n",
            "To silence this warning, decorate the function with @tf.autograph.experimental.do_not_convert\n",
            "WARNING: AutoGraph could not transform <function <lambda> at 0x7f4096b46dd0> and will run it as-is.\n",
            "Cause: could not parse the source code of <function <lambda> at 0x7f4096b46dd0>: no matching AST found\n",
            "To silence this warning, decorate the function with @tf.autograph.experimental.do_not_convert\n",
            "WARNING:tensorflow:AutoGraph could not transform <function <lambda> at 0x7f4096b46ef0> and will run it as-is.\n",
            "Cause: could not parse the source code of <function <lambda> at 0x7f4096b46ef0>: no matching AST found\n",
            "To silence this warning, decorate the function with @tf.autograph.experimental.do_not_convert\n",
            "WARNING: AutoGraph could not transform <function <lambda> at 0x7f4096b46ef0> and will run it as-is.\n",
            "Cause: could not parse the source code of <function <lambda> at 0x7f4096b46ef0>: no matching AST found\n",
            "To silence this warning, decorate the function with @tf.autograph.experimental.do_not_convert\n",
            "WARNING:tensorflow:AutoGraph could not transform <function <lambda> at 0x7f4096a03050> and will run it as-is.\n",
            "Cause: could not parse the source code of <function <lambda> at 0x7f4096a03050>: no matching AST found\n",
            "To silence this warning, decorate the function with @tf.autograph.experimental.do_not_convert\n",
            "WARNING: AutoGraph could not transform <function <lambda> at 0x7f4096a03050> and will run it as-is.\n",
            "Cause: could not parse the source code of <function <lambda> at 0x7f4096a03050>: no matching AST found\n",
            "To silence this warning, decorate the function with @tf.autograph.experimental.do_not_convert\n",
            "WARNING:tensorflow:AutoGraph could not transform <function <lambda> at 0x7f4096a03170> and will run it as-is.\n",
            "Cause: could not parse the source code of <function <lambda> at 0x7f4096a03170>: no matching AST found\n",
            "To silence this warning, decorate the function with @tf.autograph.experimental.do_not_convert\n",
            "WARNING: AutoGraph could not transform <function <lambda> at 0x7f4096a03170> and will run it as-is.\n",
            "Cause: could not parse the source code of <function <lambda> at 0x7f4096a03170>: no matching AST found\n",
            "To silence this warning, decorate the function with @tf.autograph.experimental.do_not_convert\n",
            "WARNING:tensorflow:AutoGraph could not transform <function <lambda> at 0x7f4096a03200> and will run it as-is.\n",
            "Cause: could not parse the source code of <function <lambda> at 0x7f4096a03200>: no matching AST found\n",
            "To silence this warning, decorate the function with @tf.autograph.experimental.do_not_convert\n",
            "WARNING: AutoGraph could not transform <function <lambda> at 0x7f4096a03200> and will run it as-is.\n",
            "Cause: could not parse the source code of <function <lambda> at 0x7f4096a03200>: no matching AST found\n",
            "To silence this warning, decorate the function with @tf.autograph.experimental.do_not_convert\n",
            "WARNING:tensorflow:AutoGraph could not transform <function <lambda> at 0x7f4096a033b0> and will run it as-is.\n",
            "Cause: could not parse the source code of <function <lambda> at 0x7f4096a033b0>: no matching AST found\n",
            "To silence this warning, decorate the function with @tf.autograph.experimental.do_not_convert\n",
            "WARNING: AutoGraph could not transform <function <lambda> at 0x7f4096a033b0> and will run it as-is.\n",
            "Cause: could not parse the source code of <function <lambda> at 0x7f4096a033b0>: no matching AST found\n",
            "To silence this warning, decorate the function with @tf.autograph.experimental.do_not_convert\n",
            "WARNING:tensorflow:AutoGraph could not transform <function <lambda> at 0x7f4096a034d0> and will run it as-is.\n",
            "Cause: could not parse the source code of <function <lambda> at 0x7f4096a034d0>: no matching AST found\n",
            "To silence this warning, decorate the function with @tf.autograph.experimental.do_not_convert\n",
            "WARNING: AutoGraph could not transform <function <lambda> at 0x7f4096a034d0> and will run it as-is.\n",
            "Cause: could not parse the source code of <function <lambda> at 0x7f4096a034d0>: no matching AST found\n",
            "To silence this warning, decorate the function with @tf.autograph.experimental.do_not_convert\n",
            "WARNING:tensorflow:AutoGraph could not transform <function <lambda> at 0x7f4096a035f0> and will run it as-is.\n",
            "Cause: could not parse the source code of <function <lambda> at 0x7f4096a035f0>: no matching AST found\n",
            "To silence this warning, decorate the function with @tf.autograph.experimental.do_not_convert\n",
            "WARNING: AutoGraph could not transform <function <lambda> at 0x7f4096a035f0> and will run it as-is.\n",
            "Cause: could not parse the source code of <function <lambda> at 0x7f4096a035f0>: no matching AST found\n",
            "To silence this warning, decorate the function with @tf.autograph.experimental.do_not_convert\n",
            "WARNING:tensorflow:AutoGraph could not transform <function <lambda> at 0x7f4096a03710> and will run it as-is.\n",
            "Cause: could not parse the source code of <function <lambda> at 0x7f4096a03710>: no matching AST found\n",
            "To silence this warning, decorate the function with @tf.autograph.experimental.do_not_convert\n",
            "WARNING: AutoGraph could not transform <function <lambda> at 0x7f4096a03710> and will run it as-is.\n",
            "Cause: could not parse the source code of <function <lambda> at 0x7f4096a03710>: no matching AST found\n",
            "To silence this warning, decorate the function with @tf.autograph.experimental.do_not_convert\n",
            "WARNING:tensorflow:AutoGraph could not transform <function <lambda> at 0x7f4096a03830> and will run it as-is.\n",
            "Cause: could not parse the source code of <function <lambda> at 0x7f4096a03830>: no matching AST found\n",
            "To silence this warning, decorate the function with @tf.autograph.experimental.do_not_convert\n",
            "WARNING: AutoGraph could not transform <function <lambda> at 0x7f4096a03830> and will run it as-is.\n",
            "Cause: could not parse the source code of <function <lambda> at 0x7f4096a03830>: no matching AST found\n",
            "To silence this warning, decorate the function with @tf.autograph.experimental.do_not_convert\n"
          ],
          "name": "stdout"
        }
      ]
    },
    {
      "cell_type": "code",
      "metadata": {
        "id": "rBKsWcUbke0R"
      },
      "source": [
        "embs_norm = l2_normalize(embs)"
      ],
      "execution_count": null,
      "outputs": []
    },
    {
      "cell_type": "code",
      "metadata": {
        "id": "7EtiGY0Vly_A"
      },
      "source": [
        "clf = SVC(kernel='linear', probability=True).fit(embs, y_train_le)"
      ],
      "execution_count": null,
      "outputs": []
    },
    {
      "cell_type": "code",
      "metadata": {
        "id": "UFO30rWZl6-n"
      },
      "source": [
        "val_embs = facenet.predict(X_val_norm)"
      ],
      "execution_count": null,
      "outputs": []
    },
    {
      "cell_type": "code",
      "metadata": {
        "colab": {
          "base_uri": "https://localhost:8080/"
        },
        "id": "IXfe41rEmhfu",
        "outputId": "909ba72d-cbe3-4973-c4bf-cd568f29c427"
      },
      "source": [
        "clf.score(val_embs, y_val_le)"
      ],
      "execution_count": null,
      "outputs": [
        {
          "output_type": "execute_result",
          "data": {
            "text/plain": [
              "0.9947826086956522"
            ]
          },
          "metadata": {
            "tags": []
          },
          "execution_count": 27
        }
      ]
    },
    {
      "cell_type": "code",
      "metadata": {
        "id": "UnlITg2Imsqm"
      },
      "source": [
        "test_embs = facenet.predict(X_test_norm)"
      ],
      "execution_count": null,
      "outputs": []
    },
    {
      "cell_type": "code",
      "metadata": {
        "colab": {
          "base_uri": "https://localhost:8080/"
        },
        "id": "ylU0YVukmzpG",
        "outputId": "7eb90bf7-69da-487f-ef88-12cafb4890e3"
      },
      "source": [
        "clf.score(test_embs, y_test_le)"
      ],
      "execution_count": null,
      "outputs": [
        {
          "output_type": "execute_result",
          "data": {
            "text/plain": [
              "0.9895652173913043"
            ]
          },
          "metadata": {
            "tags": []
          },
          "execution_count": 28
        }
      ]
    },
    {
      "cell_type": "code",
      "metadata": {
        "id": "Uoy2wvY1m3uZ"
      },
      "source": [
        "filename = '/content/drive/MyDrive/AI4E_Data/svm.sav'\n",
        "# pickle.dump(clf, open(filename, 'wb'))"
      ],
      "execution_count": null,
      "outputs": []
    },
    {
      "cell_type": "code",
      "metadata": {
        "id": "JiOO9xwFoIwV",
        "colab": {
          "base_uri": "https://localhost:8080/"
        },
        "outputId": "8845720c-a689-4af1-86db-31763cb5539e"
      },
      "source": [
        "loaded_model = pickle.load(open(filename, 'rb'))\n",
        "loaded_model.score(test_embs, y_test_le)"
      ],
      "execution_count": null,
      "outputs": [
        {
          "output_type": "execute_result",
          "data": {
            "text/plain": [
              "0.9930434782608696"
            ]
          },
          "metadata": {
            "tags": []
          },
          "execution_count": 31
        }
      ]
    },
    {
      "cell_type": "code",
      "metadata": {
        "id": "Y4gSbY2tpyMa",
        "colab": {
          "base_uri": "https://localhost:8080/",
          "height": 286
        },
        "outputId": "7bccb6ad-ad92-4169-9603-b4f4c829ef38"
      },
      "source": [
        "img_path = '/content/drive/MyDrive/AI4E_Data/CW2TestData/images.jpg'\n",
        "img = cv2.imread(img_path)\n",
        "img = cv2.cvtColor(img, cv2.COLOR_BGR2RGB)\n",
        "plt.imshow(img)"
      ],
      "execution_count": null,
      "outputs": [
        {
          "output_type": "execute_result",
          "data": {
            "text/plain": [
              "<matplotlib.image.AxesImage at 0x7f4085507b50>"
            ]
          },
          "metadata": {
            "tags": []
          },
          "execution_count": 85
        },
        {
          "output_type": "display_data",
          "data": {
            "image/png": "[encoded data removed]",
            "text/plain": [
              "<Figure size 432x288 with 1 Axes>"
            ]
          },
          "metadata": {
            "tags": [],
            "needs_background": "light"
          }
        }
      ]
    },
    {
      "cell_type": "code",
      "metadata": {
        "id": "1GpOH3NNrzqO"
      },
      "source": [
        "#extract face from image\n",
        "def crop_face_image(image_path):\n",
        "  detector = MTCNN()\n",
        "  # if type(image_path) == str:\n",
        "  #   img = cv2.imread(image_path)\n",
        "  # else:\n",
        "  #   img = image_path\n",
        "  img = cv2.imread(image_path)\n",
        "  data = detector.detect_faces(img)\n",
        "  #in case we detected multiple faces, then choose the biggest one\n",
        "  biggest = 0\n",
        "  if data != []:\n",
        "    for faces in data:\n",
        "      box = faces['box']\n",
        "      #calculate the are in the image\n",
        "      #box[0] =x, box[1] = y, box[2] = width, box[3] = height\n",
        "      #but (x,y) here is center point or upper left point?\n",
        "      #i think its upper left point\n",
        "      area = box[3] *box[2]\n",
        "      if area > biggest:\n",
        "        biggest = area\n",
        "        bbox = box\n",
        "    bbox[0] = 0 if bbox[0] < 0 else bbox[0]\n",
        "    bbox[1] = 0 if bbox[1] < 0 else bbox[1]\n",
        "    img = img[bbox[1] : bbox[1] + bbox[3], bbox[0] : bbox[0] + bbox[2]]\n",
        "    #convert from bgr to rgb\n",
        "    img = cv2.cvtColor(img, cv2.COLOR_BGR2RGB)\n",
        "    return (True, img)\n",
        "  else:\n",
        "    return (False, None)"
      ],
      "execution_count": null,
      "outputs": []
    },
    {
      "cell_type": "code",
      "metadata": {
        "colab": {
          "base_uri": "https://localhost:8080/",
          "height": 286
        },
        "id": "QrSoG_iUr3_z",
        "outputId": "4a40dccb-0fda-4ac0-b4e2-390b93a87fea"
      },
      "source": [
        "#Extract face from image\n",
        "status, image = crop_face_image(img_path)\n",
        "if status:\n",
        "  plt.figure()\n",
        "  f, axarr = plt.subplots(2,1) \n",
        "  orig_img = plt.imread(img_path)\n",
        "  axarr[0].imshow(orig_img)\n",
        "  axarr[1].imshow(image)\n",
        "\n",
        "  plt.imshow(image)\n",
        "else:\n",
        "  print('No facial image was detected')"
      ],
      "execution_count": null,
      "outputs": [
        {
          "output_type": "display_data",
          "data": {
            "text/plain": [
              "<Figure size 432x288 with 0 Axes>"
            ]
          },
          "metadata": {
            "tags": []
          }
        },
        {
          "output_type": "display_data",
          "data": {
            "image/png": "[encoded data removed]",
            "text/plain": [
              "<Figure size 432x288 with 2 Axes>"
            ]
          },
          "metadata": {
            "tags": [],
            "needs_background": "light"
          }
        }
      ]
    },
    {
      "cell_type": "code",
      "metadata": {
        "id": "zumDxQl3r_Ur"
      },
      "source": [
        "#Preprocess Image\n",
        "image = cv2.resize(image,(160,160),interpolation = cv2.INTER_AREA)\n",
        "image = image/255."
      ],
      "execution_count": null,
      "outputs": []
    },
    {
      "cell_type": "code",
      "metadata": {
        "id": "sY6pjRXusBSL"
      },
      "source": [
        "#Predict\n",
        "#Write the true name\n",
        "true_name='Unknown'\n",
        "#Expand dims to have valid shape for keras model prediction\n",
        "image_exdim = np.expand_dims(image, axis =0)\n",
        "embs_pred = facenet.predict(image_exdim)\n",
        "\n",
        "\n"
      ],
      "execution_count": null,
      "outputs": []
    },
    {
      "cell_type": "code",
      "metadata": {
        "id": "XNgZ-eoes9M9"
      },
      "source": [
        "pred = loaded_model.predict(embs_pred)"
      ],
      "execution_count": null,
      "outputs": []
    },
    {
      "cell_type": "code",
      "metadata": {
        "colab": {
          "base_uri": "https://localhost:8080/",
          "height": 35
        },
        "id": "1DrBiUeisUYe",
        "outputId": "5981d427-5948-403a-f1cd-3ca53e38daa5"
      },
      "source": [
        "name_map[pred[0]]"
      ],
      "execution_count": null,
      "outputs": [
        {
          "output_type": "execute_result",
          "data": {
            "application/vnd.google.colaboratory.intrinsic+json": {
              "type": "string"
            },
            "text/plain": [
              "'Kiên'"
            ]
          },
          "metadata": {
            "tags": []
          },
          "execution_count": 91
        }
      ]
    },
    {
      "cell_type": "code",
      "metadata": {
        "colab": {
          "base_uri": "https://localhost:8080/"
        },
        "id": "U-FpHb_6tL_0",
        "outputId": "ee185838-44f6-422b-dd72-a08cdc50b247"
      },
      "source": [
        "np.max(clf.predict_proba(embs_pred))"
      ],
      "execution_count": null,
      "outputs": [
        {
          "output_type": "execute_result",
          "data": {
            "text/plain": [
              "0.5381705595387327"
            ]
          },
          "metadata": {
            "tags": []
          },
          "execution_count": 92
        }
      ]
    },
    {
      "cell_type": "code",
      "metadata": {
        "colab": {
          "base_uri": "https://localhost:8080/"
        },
        "id": "LPQWERMvu1WO",
        "outputId": "0dc484e5-cbb0-41af-a74f-b2f2501e7b20"
      },
      "source": [
        "test_pred = loaded_model.predict(test_embs)\n",
        "#take a list of wrong prediction image 'indexes\n",
        "wrong_pred_index =[]\n",
        "for i in range(len(test_pred)):\n",
        "  if test_pred[i]  != y_test_le[i] :\n",
        "      wrong_pred_index.append(i)\n",
        "print(len(wrong_pred_index))"
      ],
      "execution_count": null,
      "outputs": [
        {
          "output_type": "stream",
          "text": [
            "4\n"
          ],
          "name": "stdout"
        }
      ]
    },
    {
      "cell_type": "code",
      "metadata": {
        "id": "Xoa739eV3gw6"
      },
      "source": [
        "thres = 0.75"
      ],
      "execution_count": null,
      "outputs": []
    },
    {
      "cell_type": "code",
      "metadata": {
        "id": "50tN6n8Pv-if"
      },
      "source": [
        "wrong = clf.predict_proba(test_embs[wrong_pred_index])"
      ],
      "execution_count": null,
      "outputs": []
    },
    {
      "cell_type": "code",
      "metadata": {
        "colab": {
          "base_uri": "https://localhost:8080/"
        },
        "id": "VTJjmvjZwTZc",
        "outputId": "478c4182-72d8-49ab-e9f1-9bd90c78fd21"
      },
      "source": [
        "for prob in wrong:\n",
        "  print(np.max(prob))"
      ],
      "execution_count": null,
      "outputs": [
        {
          "output_type": "stream",
          "text": [
            "0.3683637186535253\n",
            "0.6734887224284524\n",
            "0.6391657945327406\n",
            "0.26947939772152174\n"
          ],
          "name": "stdout"
        }
      ]
    },
    {
      "cell_type": "code",
      "metadata": {
        "id": "s1QY0bqayKbz"
      },
      "source": [
        ""
      ],
      "execution_count": null,
      "outputs": []
    },
    {
      "cell_type": "markdown",
      "metadata": {
        "id": "XcNhQBsi3_MU"
      },
      "source": [
        "#Prediction"
      ]
    },
    {
      "cell_type": "code",
      "metadata": {
        "colab": {
          "base_uri": "https://localhost:8080/"
        },
        "id": "0eb9jWD34Aay",
        "outputId": "7bd8dd2a-951e-4461-a92d-7b8a1ce4816b"
      },
      "source": [
        "model_path = '/content/drive/MyDrive/keras-facenet/model/facenet_keras.h5'\n",
        "weight_path = '/content/drive/MyDrive/keras-facenet/weights/facenet_keras_weights.h5' \n",
        "facenet = load_model(model_path)\n",
        "facenet.load_weights(weight_path)"
      ],
      "execution_count": 7,
      "outputs": [
        {
          "output_type": "stream",
          "text": [
            "WARNING:tensorflow:No training configuration found in the save file, so the model was *not* compiled. Compile it manually.\n"
          ],
          "name": "stdout"
        }
      ]
    },
    {
      "cell_type": "code",
      "metadata": {
        "id": "2TF1CyFW4JZp"
      },
      "source": [
        "folder_path ='/content/drive/MyDrive/AI4E_Data/CW2TestData'\n"
      ],
      "execution_count": 27,
      "outputs": []
    },
    {
      "cell_type": "code",
      "metadata": {
        "id": "ZXVMJcdy6z2B"
      },
      "source": [
        "def crop_face_image(image_path):\n",
        "  detector = MTCNN()\n",
        "  # if type(image_path) == str:\n",
        "  #   img = cv2.imread(image_path)\n",
        "  # else:\n",
        "  #   img = image_path\n",
        "  img = cv2.imread(image_path)\n",
        "  data = detector.detect_faces(img)\n",
        "  #in case we detected multiple faces, then choose the biggest one\n",
        "  biggest = 0\n",
        "  if data != []:\n",
        "    for faces in data:\n",
        "      box = faces['box']\n",
        "      #calculate the are in the image\n",
        "      #box[0] =x, box[1] = y, box[2] = width, box[3] = height\n",
        "      #but (x,y) here is center point or upper left point?\n",
        "      #i think its upper left point\n",
        "      area = box[3] *box[2]\n",
        "      if area > biggest:\n",
        "        biggest = area\n",
        "        bbox = box\n",
        "    bbox[0] = 0 if bbox[0] < 0 else bbox[0]\n",
        "    bbox[1] = 0 if bbox[1] < 0 else bbox[1]\n",
        "    img = img[bbox[1] : bbox[1] + bbox[3], bbox[0] : bbox[0] + bbox[2]]\n",
        "    #convert from bgr to rgb\n",
        "    img = cv2.cvtColor(img, cv2.COLOR_BGR2RGB)\n",
        "    return (True, img)\n",
        "  else:\n",
        "    return (False, None)"
      ],
      "execution_count": 20,
      "outputs": []
    },
    {
      "cell_type": "code",
      "metadata": {
        "colab": {
          "base_uri": "https://localhost:8080/"
        },
        "id": "XfQf8qoq98s_",
        "outputId": "a11ca80a-3136-4a69-e1eb-da04d1defcb0"
      },
      "source": [
        "from google.colab import drive\n",
        "drive.mount('/content/drive')"
      ],
      "execution_count": 10,
      "outputs": [
        {
          "output_type": "stream",
          "text": [
            "Drive already mounted at /content/drive; to attempt to forcibly remount, call drive.mount(\"/content/drive\", force_remount=True).\n"
          ],
          "name": "stdout"
        }
      ]
    },
    {
      "cell_type": "code",
      "metadata": {
        "colab": {
          "base_uri": "https://localhost:8080/"
        },
        "id": "qUxNxSm_4QWa",
        "outputId": "fde9ce3c-ab9c-4c85-e888-604bf217e824"
      },
      "source": [
        "image_list = []\n",
        "label_list = []\n",
        "# stop = 0\n",
        "for filename in os.listdir(folder_path):\n",
        "    # if(stop == 10):\n",
        "    #   break\n",
        "    if filename.endswith('jpg'):\n",
        "      img_path = os.path.join(folder_path, filename)\n",
        "      status, image = crop_face_image(img_path)\n",
        "      if status:\n",
        "        print('Extract Face Ok')\n",
        "        image_list.append(image)\n",
        "        #extract name without .jpg\n",
        "        name_wo_mp4 = filename[:len(filename) - 4]\n",
        "\n",
        "        #extract person name\n",
        "        pattern = r'[0-9]'\n",
        "        name = re.sub(pattern, '', name_wo_mp4)\n",
        "        #xoa space\n",
        "        name.replace(\" \", \"\")\n",
        "        label_list.append(name)\n",
        "        # stop += 1\n",
        "      else:\n",
        "        print('No facial image was detected')\n",
        "\n",
        "len(image_list)"
      ],
      "execution_count": 28,
      "outputs": [
        {
          "output_type": "stream",
          "text": [
            "Extract Face Ok\n",
            "Extract Face Ok\n",
            "Extract Face Ok\n",
            "Extract Face Ok\n",
            "Extract Face Ok\n",
            "Extract Face Ok\n",
            "Extract Face Ok\n",
            "Extract Face Ok\n",
            "Extract Face Ok\n",
            "Extract Face Ok\n",
            "Extract Face Ok\n"
          ],
          "name": "stdout"
        },
        {
          "output_type": "execute_result",
          "data": {
            "text/plain": [
              "11"
            ]
          },
          "metadata": {
            "tags": []
          },
          "execution_count": 28
        }
      ]
    },
    {
      "cell_type": "code",
      "metadata": {
        "id": "v6x9hCiJ4nv8"
      },
      "source": [
        "svm_model = '/content/drive/MyDrive/AI4E_Data/svm.sav'"
      ],
      "execution_count": 22,
      "outputs": []
    },
    {
      "cell_type": "code",
      "metadata": {
        "id": "IbTaS07f4uTe"
      },
      "source": [
        "loaded_model = pickle.load(open(svm_model, 'rb'))"
      ],
      "execution_count": 13,
      "outputs": []
    },
    {
      "cell_type": "code",
      "metadata": {
        "id": "5mY5r0Vd47Qq"
      },
      "source": [
        "#resize image to fit input of pretrain model\n",
        "def resize_image(X):\n",
        "  res = []\n",
        "  for i in range(len(X)):\n",
        "    res.append(cv2.resize(X[i],(160,160),interpolation = cv2.INTER_AREA))\n",
        "  res = np.array(res)\n",
        "  return res"
      ],
      "execution_count": 14,
      "outputs": []
    },
    {
      "cell_type": "code",
      "metadata": {
        "id": "UoQ4JcqP48Om"
      },
      "source": [
        "image_list = resize_image(image_list)\n",
        "image_list = image_list/255."
      ],
      "execution_count": 29,
      "outputs": []
    },
    {
      "cell_type": "code",
      "metadata": {
        "colab": {
          "base_uri": "https://localhost:8080/",
          "height": 35
        },
        "id": "1jSOF0Ts8SLW",
        "outputId": "74e2550e-6065-4ea6-d10e-4d7e0dcf4b71"
      },
      "source": [
        "label_list[2]"
      ],
      "execution_count": 24,
      "outputs": [
        {
          "output_type": "execute_result",
          "data": {
            "application/vnd.google.colaboratory.intrinsic+json": {
              "type": "string"
            },
            "text/plain": [
              "'Hiếu'"
            ]
          },
          "metadata": {
            "tags": []
          },
          "execution_count": 24
        }
      ]
    },
    {
      "cell_type": "code",
      "metadata": {
        "id": "xoPuGHpa5mmL"
      },
      "source": [
        "#Load name_map\n",
        "name_map ={0: 'Hiếu', 1: 'Hùng', 2: 'HĐức', 3: 'Kiên', 4: 'Linh', 5: 'Quân', 6: 'Tân', 7: 'Thắng', 8: 'Trường', 9: 'Tuấn', 10: 'Vân', 11: 'Việt Đức', 12: 'Xuân Anh', 13: 'Đức'}"
      ],
      "execution_count": 17,
      "outputs": []
    },
    {
      "cell_type": "code",
      "metadata": {
        "colab": {
          "base_uri": "https://localhost:8080/"
        },
        "id": "eCYx6I-y7BiT",
        "outputId": "2bab7a6c-e62e-4c87-face-04808d0fd58e"
      },
      "source": [
        "#Predict\n",
        "#Write the true name\n",
        "thres = 0.7\n",
        "pred_embs = facenet.predict(image_list)\n",
        "name_pred= loaded_model.predict_proba(pred_embs)\n",
        "\n",
        "for i in range(len(name_pred)):\n",
        "  if np.max(name_pred[i]) > thres:\n",
        "    print('Truth: ', label_list[i], ' Predict: ', name_map[np.argmax(name_pred[i])])\n",
        "  else:\n",
        "    print('Truth: ', label_list[i], ' Predict: ', 'Unknown')"
      ],
      "execution_count": 30,
      "outputs": [
        {
          "output_type": "stream",
          "text": [
            "Truth:  Đức  Predict:  Đức\n",
            "Truth:  HĐức  Predict:  HĐức\n",
            "Truth:  Hiếu  Predict:  Hiếu\n",
            "Truth:  Hùng  Predict:  Hùng\n",
            "Truth:  Kiên  Predict:  Unknown\n",
            "Truth:  asas  Predict:  Đức\n",
            "Truth:  michael park__fc-crop  Predict:  Unknown\n",
            "Truth:  images  Predict:  Kiên\n",
            "Truth:  young-asian-man-face-isolated-white-closeup-  Predict:  Unknown\n",
            "Truth:  download  Predict:  Tân\n",
            "Truth:  -asian-handsome-man-smiling-and-laughing-isolated-on-white-background-soft-focus  Predict:  HĐức\n"
          ],
          "name": "stdout"
        }
      ]
    },
    {
      "cell_type": "code",
      "metadata": {
        "id": "uqr4LQ7A8Yj5",
        "colab": {
          "base_uri": "https://localhost:8080/"
        },
        "outputId": "de7a601d-2ac1-430a-be15-319571510005"
      },
      "source": [
        "np.max(name_pred[10])"
      ],
      "execution_count": 32,
      "outputs": [
        {
          "output_type": "execute_result",
          "data": {
            "text/plain": [
              "0.9856279680553826"
            ]
          },
          "metadata": {
            "tags": []
          },
          "execution_count": 32
        }
      ]
    },
    {
      "cell_type": "code",
      "metadata": {
        "id": "wB-ZzimcC2Pv"
      },
      "source": [
        ""
      ],
      "execution_count": null,
      "outputs": []
    }
  ]
}